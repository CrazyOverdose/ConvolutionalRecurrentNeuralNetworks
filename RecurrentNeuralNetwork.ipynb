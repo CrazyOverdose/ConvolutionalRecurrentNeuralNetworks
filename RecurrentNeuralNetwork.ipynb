{
 "cells": [
  {
   "cell_type": "markdown",
   "id": "d59bae76",
   "metadata": {},
   "source": [
    "# Домашнее задание 3. Свёрточные и рекуррентные нейронные сети\n",
    "\n",
    "### Хрулева Елена ИУ8-83\n",
    "### Вариант 19\n",
    "\n",
    "## Наборы данных\n",
    "\n",
    "### Задача регрессии\n",
    "\n",
    "D. Набор данных \"Кошки и собаки\" torchvision.datasets.OxfordIIITPet split = 'trainval' и 'test' (объекты разбиты по породам (всего 37 пород), нужно построить бинарный классификатор собак и кошек)\n",
    "\n",
    "### Задача классификации\n",
    "\n",
    "N. Набор данных \"Сказки\" fairytales.txt"
   ]
  },
  {
   "cell_type": "markdown",
   "id": "2ecb2471",
   "metadata": {},
   "source": [
    "## 2. Рекуррентная нейронная сеть для генерации текстов\n",
    "\n",
    "### 2.1 Загрузка данных"
   ]
  },
  {
   "cell_type": "code",
   "execution_count": 1,
   "id": "850bbc63",
   "metadata": {},
   "outputs": [],
   "source": [
    "import warnings\n",
    "import random\n",
    "import numpy as np\n",
    "import pandas as pd\n",
    "import torch\n",
    "import torchvision\n",
    "import matplotlib.pyplot as plt\n",
    "import collections\n",
    "\n",
    "warnings.filterwarnings(\"ignore\")\n",
    "device = torch.device('cuda:0' if torch.cuda.is_available() else 'cpu')\n",
    "\n",
    "with open(\"N_fairytales.txt\", 'r', encoding='utf-8') as fairytales:\n",
    "    lines = fairytales.readlines()\n",
    "\n",
    "lines = lines[53:]"
   ]
  },
  {
   "cell_type": "code",
   "execution_count": 2,
   "id": "6fba8ce8",
   "metadata": {},
   "outputs": [],
   "source": [
    "clear_lines = []\n",
    "fairytales = str()\n",
    "for line in lines:\n",
    "    line = line.replace('\\n', '')\n",
    "\n",
    "    if len(line) and line != line.upper():\n",
    "        fairytales += line.replace('   ', '\\n')"
   ]
  },
  {
   "cell_type": "markdown",
   "id": "180d8c6d",
   "metadata": {},
   "source": [
    "### 2.2 Преодбработка/нормализация данных по необходимости\n",
    "\n",
    "Например, можно привести все слова к нижнему регистру"
   ]
  },
  {
   "cell_type": "code",
   "execution_count": 3,
   "id": "e09cc6fd",
   "metadata": {},
   "outputs": [],
   "source": [
    "collection = sorted(\n",
    "    collections.Counter(fairytales).items(),\n",
    "    key = lambda i: i[1],\n",
    "    reverse = True\n",
    ")"
   ]
  },
  {
   "cell_type": "code",
   "execution_count": 4,
   "id": "6648b6d4",
   "metadata": {},
   "outputs": [],
   "source": [
    "char_map =  {j[0]: i for i, j in enumerate(collection)}\n",
    "index_map = {j: i for i, j in char_map.items()}\n",
    "ft_seq = np.array([char_map[i] for i in fairytales])"
   ]
  },
  {
   "cell_type": "markdown",
   "id": "f690515a",
   "metadata": {},
   "source": [
    "### 2.3 Инициализация объекта рекуррентной нейронной сети"
   ]
  },
  {
   "cell_type": "code",
   "execution_count": 5,
   "id": "40d01eba",
   "metadata": {},
   "outputs": [],
   "source": [
    "class TextModel1(torch.nn.Module):\n",
    "    def __init__(self, num_emb, emb_dim, hidden_size, num_layers, dropout):\n",
    "        super().__init__()\n",
    "\n",
    "        self.emb = torch.nn.Embedding(num_emb, emb_dim)\n",
    "        self.rnn = torch.nn.RNN(emb_dim, hidden_size, num_layers, dropout=dropout)\n",
    "        self.l_1 = torch.nn.Linear(hidden_size, hidden_size // 2)\n",
    "        self.d_1 = torch.nn.Dropout(0.2)\n",
    "        self.l_2 = torch.nn.Linear(hidden_size // 2, hidden_size // 4)\n",
    "        self.d_2 = torch.nn.Dropout(0.2)\n",
    "        self.l_3 = torch.nn.Linear(hidden_size // 4, num_emb)\n",
    "\n",
    "        self.hidden_size = hidden_size\n",
    "        self.num_layers = num_layers\n",
    "        \n",
    "    def forward(self, x, h):\n",
    "        x = self.emb(x).squeeze(2)\n",
    "        x, h = self.rnn(x, h)\n",
    "        \n",
    "        x = self.d_1(self.l_1(x))\n",
    "        x = self.d_2(self.l_2(x))\n",
    "        x = self.l_3(x)\n",
    "        return x, h\n",
    "    \n",
    "    def init_state(self, batch_size=1):\n",
    "        return torch.zeros(self.num_layers, batch_size, self.hidden_size, requires_grad=False).to(device)"
   ]
  },
  {
   "cell_type": "code",
   "execution_count": 6,
   "id": "a96355fa",
   "metadata": {},
   "outputs": [],
   "source": [
    "def eval(model, input_text, length, temp):\n",
    "    model.eval()\n",
    "\n",
    "    x = torch.LongTensor(tuple((char_map[c] for c in input_text)))\n",
    "    x = x.view(-1, 1, 1).to(device)\n",
    "\n",
    "    with torch.no_grad():\n",
    "        hidden = model.init_state(batch_size=1)\n",
    "        _, hidden = model.forward(x, hidden)\n",
    "        x = x[-1].view(-1, 1, 1)\n",
    "\n",
    "        for symbol in range(length):\n",
    "            y, hidden = model.forward(x, hidden)\n",
    "            y = y.cpu().data.view(-1) / temp\n",
    "            \n",
    "            p = torch.nn.functional.softmax(y, dim=-1)\n",
    "            p = p.detach().cpu().data.numpy()\n",
    "            i = np.random.choice(len(char_map), p=p)\n",
    "            input_text += index_map[i]\n",
    "            x = torch.LongTensor([i])\n",
    "            x = x.view(-1, 1, 1).to(device)\n",
    "    return input_text"
   ]
  },
  {
   "cell_type": "code",
   "execution_count": 7,
   "id": "a4f3370d",
   "metadata": {},
   "outputs": [],
   "source": [
    "def get_train_data(batch_size=20, length=250):\n",
    "    x = list()\n",
    "    y = list()\n",
    "\n",
    "    for _ in range(20):\n",
    "        rand_i = np.random.randint(0, len(ft_seq) - 250)\n",
    "        x_i = torch.LongTensor(ft_seq[rand_i:rand_i + 250 - 1])\n",
    "        x.append(x_i.view(-1, 1))\n",
    "        y_i = torch.LongTensor(ft_seq[rand_i + 1:rand_i + 250])\n",
    "        y.append(y_i.view(-1, 1))\n",
    "\n",
    "    x = torch.stack(x, dim=0).permute(1, 0, 2).to(device)\n",
    "    y = torch.stack(y, dim=0).permute(1, 0, 2).to(device)\n",
    "    return x, y"
   ]
  },
  {
   "cell_type": "code",
   "execution_count": 8,
   "id": "fd23a2ff",
   "metadata": {},
   "outputs": [],
   "source": [
    "def train_model(model, criterion, optimizer, scheduler, epochs=10_000):\n",
    "    losses = list()\n",
    "\n",
    "    for epoch in range(epochs):\n",
    "        model.train()\n",
    "        optimizer.zero_grad()\n",
    "\n",
    "        x, y = get_train_data(ft_seq)\n",
    "        h = model.init_state(20)\n",
    "        \n",
    "        y_pred, _ = model.forward(x, h)\n",
    "        loss = criterion(y_pred.permute(1, 2, 0), y.squeeze(-1).permute(1, 0))\n",
    "        losses.append(loss.item())\n",
    "\n",
    "        loss.backward()\n",
    "        optimizer.step()\n",
    "        \n",
    "        if epoch == 0 or epoch % 500 == 499:\n",
    "            print(f\"{epoch + 1}) CrossEntropyLoss={round(losses[-1], 2)}\")\n",
    "\n",
    "    return losses"
   ]
  },
  {
   "cell_type": "markdown",
   "id": "ba578d6a",
   "metadata": {},
   "source": [
    "### 2.4 Обучение обычной рекуррентной нейронной сети"
   ]
  },
  {
   "cell_type": "code",
   "execution_count": 9,
   "id": "6e302613",
   "metadata": {},
   "outputs": [
    {
     "name": "stdout",
     "output_type": "stream",
     "text": [
      "1) CrossEntropyLoss=4.58\n",
      "500) CrossEntropyLoss=2.09\n",
      "1000) CrossEntropyLoss=1.84\n",
      "1500) CrossEntropyLoss=1.78\n",
      "2000) CrossEntropyLoss=1.74\n",
      "2500) CrossEntropyLoss=1.78\n",
      "3000) CrossEntropyLoss=1.75\n",
      "3500) CrossEntropyLoss=1.64\n",
      "4000) CrossEntropyLoss=1.66\n",
      "4500) CrossEntropyLoss=1.61\n",
      "5000) CrossEntropyLoss=1.63\n",
      "5500) CrossEntropyLoss=1.64\n",
      "6000) CrossEntropyLoss=1.64\n",
      "6500) CrossEntropyLoss=1.6\n",
      "7000) CrossEntropyLoss=1.55\n",
      "7500) CrossEntropyLoss=1.61\n",
      "8000) CrossEntropyLoss=1.53\n",
      "8500) CrossEntropyLoss=1.55\n",
      "9000) CrossEntropyLoss=1.64\n",
      "9500) CrossEntropyLoss=1.56\n",
      "10000) CrossEntropyLoss=1.6\n"
     ]
    }
   ],
   "source": [
    "model = TextModel1(len(char_map), 128, 256, 3, 0.2).to(device)\n",
    "criterion = torch.nn.CrossEntropyLoss()\n",
    "optimizer = torch.optim.Adam(model.parameters())\n",
    "scheduler = torch.optim.lr_scheduler.ReduceLROnPlateau(optimizer, patience=5, verbose=True, factor=0.1)\n",
    "\n",
    "losses = train_model(model, criterion, optimizer, scheduler)"
   ]
  },
  {
   "cell_type": "markdown",
   "id": "ba6a9e7f",
   "metadata": {},
   "source": [
    "### 2.5 Генерация текстов при помощи обычной рекуррентной сети"
   ]
  },
  {
   "cell_type": "code",
   "execution_count": 10,
   "id": "52d3cca4",
   "metadata": {},
   "outputs": [
    {
     "name": "stdout",
     "output_type": "stream",
     "text": [
      "Temp=0.1: Жил-был король с королевой, и у них не спросила его в ней и сказала:\n",
      "- Не было не стала она подошел к ней и сказала:\n",
      "- Не было не стала она подошла к нему в королевской дочь великана со своей дочери.\n",
      "- Нет, - сказала королева совсем не стала она старуха со своей дочери, и она совсем не стала не стала сердце старуха стала она со своей королевского дерева и сказала:\n",
      "- Не было в том столом и сказала:\n",
      "- Не после тебе не последний дочь великана солнце не последняя королева со своей дочери. Она совсем не подошла к нему в своей королевс\n",
      "\n",
      "Temp=0.2: Жил-был король с королевой, и у них под ним старуха совсем не спросила его с собой королева и сказала:\n",
      "- Не станет в королевского королевство  последняя  королевство  отправился  всего  старуха  она  стала  все  старуха  старшая  королевство  всего  старуха  она  отправился  возвращаться  семь  домой  старуха  всего  принцессы  она  возвращается  старуха  старуха  подошла  в  тому  королевского  принцессы  не  всегда  все  во  дворце  подарки  и  старуха  всегда  возвращается  волшебница.  -  Но  не  всегда  дочь  старуха  вот  с\n",
      "\n",
      "Temp=0.4: Жил-был король с королевой, и у них не могла  достать  у  самом  красавицу  принцессы  показалось  поднялись  она  со  старуха  принцесса  все  подалететь  послушался  во  дворце  от  столом.\n",
      "- Нет, - сказала солнце и спросила его с  дворцовые  дерево,  подумала  ее  должна  сестрам и сорок своего сердце старуха, которые поднялись в своем комнате не старуха сама по-полнить королевского башню, когда возвращался на свете, - сказала она, что он подумала:\n",
      "- Нет, - сказала должны после королева все все отведал он с ними не поднялась и\n",
      "\n",
      "Temp=0.6: Жил-был король с королевой, и у них большой роскошный король:\n",
      "- Не было постоянно принц увидел ее как из ворота колдунья и послали  до  дочь  в  грудо  такой  своего  собственными  поразные  ее  на  дворцовой  королевство  возвращается  девушку  которые  принцессу  лишекдабовать. Он домой все сказать на свете, а по их светок, и возьми старушка и с злобно  лежали  вершенно  в-дорине всего королевский день живо состростно всех в комнаты, и она отправился на землю. Я не отведала она.\n",
      "- Но ваше  от  тот  лет  нет  под  ней.  Какими  \n",
      "\n",
      "Temp=0.8: Жил-был король с королевой, и у них замка, она принесли драгоценными детей, она выпил это, попросил ее, узнав ненавидеть свою дочь великана.\n",
      "- Сказала Семена не  принцессу.Как она обрадовался и опять ничка увидела глаза. - Ты огонь стала разберить ты за зарок, она слезы  у  тобой  делатьчевом все на волнаю семь лет у  ума.  Тотчиносталвили в море; проды так солдат от самым лесу колдунья? - вас сочали ее вежет  тристудном вернулся черный духом два немного было крово-ми о теперь отец королевскою всех медту.\n",
      "Они  сестры все она пове\n",
      "\n",
      "Temp=1.0: Жил-был король с королевой, и у нихтофеу-то ноком у приказала их оланя о! Я перед кернено очень ее уже еще  из ним было другу и зарадовался царевича,  как  говорила  у  нее  как  спал  кот,  как  онинневноспит свои дороге подходили цвета. Она несше возвращаться, как двидца разбожалмол принцессы, старуха соблагодовал ее Вашиму слишком запока случится.\n",
      "Натака в бала - несел от  другой  идетание все страхыв в водн, когда от тобой тоже видна, ходил он на убить Ивана-царевича в темнее у - без необез\n",
      "ис отец как я один с крагом больше \n",
      "\n"
     ]
    }
   ],
   "source": [
    "for temp_i in [0.1, 0.2, 0.4, 0.6, 0.8, 1.0]:\n",
    "    pred_text = eval(model, \"Жил-был король с королевой, и у них\", 500, temp_i)\n",
    "    print(f\"Temp={temp_i}: {pred_text}\")\n",
    "    print()"
   ]
  },
  {
   "cell_type": "markdown",
   "id": "e149e058",
   "metadata": {},
   "source": [
    "### 2.6 Обучение рекуррентной нейронной сети с LSTM-ячейками"
   ]
  },
  {
   "cell_type": "code",
   "execution_count": 11,
   "id": "0eb8ce89",
   "metadata": {},
   "outputs": [],
   "source": [
    "class TextModel2(torch.nn.Module):\n",
    "    def __init__(self, num_emb, emb_dim, hidden_size, num_layers, dropout):\n",
    "        super().__init__()\n",
    "\n",
    "        self.emb = torch.nn.Embedding(num_emb, emb_dim)\n",
    "        self.rnn = torch.nn.LSTM(emb_dim, hidden_size, num_layers, dropout=dropout)\n",
    "        self.l_1 = torch.nn.Linear(hidden_size, hidden_size // 2)\n",
    "        self.d_1 = torch.nn.Dropout(0.2)\n",
    "        self.l_2 = torch.nn.Linear(hidden_size // 2, hidden_size // 4)\n",
    "        self.d_2 = torch.nn.Dropout(0.2)\n",
    "        self.l_3 = torch.nn.Linear(hidden_size // 4, num_emb)\n",
    "\n",
    "        self.hidden_size = hidden_size\n",
    "        self.num_layers = num_layers\n",
    "        \n",
    "    def forward(self, x, h):\n",
    "        x = self.emb(x).squeeze(2)\n",
    "        x, h = self.rnn(x, h)\n",
    "        \n",
    "        x = self.d_1(self.l_1(x))\n",
    "        x = self.d_2(self.l_2(x))\n",
    "        x = self.l_3(x)\n",
    "        return x, h\n",
    "    \n",
    "    def init_state(self, batch_size=1):\n",
    "        return (torch.zeros(self.num_layers, batch_size, self.hidden_size, requires_grad=False).to(device),\n",
    "                torch.zeros(self.num_layers, batch_size, self.hidden_size, requires_grad=False).to(device))"
   ]
  },
  {
   "cell_type": "code",
   "execution_count": 12,
   "id": "c248c761",
   "metadata": {},
   "outputs": [
    {
     "name": "stdout",
     "output_type": "stream",
     "text": [
      "1) CrossEntropyLoss=4.54\n",
      "500) CrossEntropyLoss=2.25\n",
      "1000) CrossEntropyLoss=1.89\n",
      "1500) CrossEntropyLoss=1.76\n",
      "2000) CrossEntropyLoss=1.65\n",
      "2500) CrossEntropyLoss=1.54\n",
      "3000) CrossEntropyLoss=1.46\n",
      "3500) CrossEntropyLoss=1.45\n",
      "4000) CrossEntropyLoss=1.47\n",
      "4500) CrossEntropyLoss=1.36\n",
      "5000) CrossEntropyLoss=1.34\n",
      "5500) CrossEntropyLoss=1.26\n",
      "6000) CrossEntropyLoss=1.3\n",
      "6500) CrossEntropyLoss=1.26\n",
      "7000) CrossEntropyLoss=1.23\n",
      "7500) CrossEntropyLoss=1.16\n",
      "8000) CrossEntropyLoss=1.17\n",
      "8500) CrossEntropyLoss=1.16\n",
      "9000) CrossEntropyLoss=1.15\n",
      "9500) CrossEntropyLoss=1.16\n",
      "10000) CrossEntropyLoss=1.14\n"
     ]
    }
   ],
   "source": [
    "model = TextModel2(len(char_map), 128, 256, 3, 0.2).to(device)\n",
    "criterion = torch.nn.CrossEntropyLoss()\n",
    "optimizer = torch.optim.Adam(model.parameters())\n",
    "scheduler = torch.optim.lr_scheduler.ReduceLROnPlateau(optimizer, patience=5, verbose=True, factor=0.1)\n",
    "\n",
    "losses_2 = train_model(model, criterion, optimizer, scheduler)"
   ]
  },
  {
   "cell_type": "markdown",
   "id": "b748088a",
   "metadata": {},
   "source": [
    "### 2.7 Генерация текстов с разной температурой\n",
    "\n",
    "Попробуйте сгенерировать тексты с температурой из списка: [0.1, 0.2, 0.4, 0.6, 0.8, 1.0] (см. нотубук с семинара по RNN)"
   ]
  },
  {
   "cell_type": "code",
   "execution_count": 13,
   "id": "ddda99e5",
   "metadata": {},
   "outputs": [
    {
     "name": "stdout",
     "output_type": "stream",
     "text": [
      "Temp=0.1: Жил-был король с королевой, и у них не подал и  страшно,  что  онаподумала: \"Чудовище, - сказал король. -  Но  тыне спускай девушка, но он не смог надеть только какая-то  травка,  как  ты  скажешь,что ты не сможешь тебе посмотреть, что на свете  принцесса  вы-соты добралась в прохладную постель.\n",
      "- Нет, - сказал король. - Я не могу поставить  вас  возвращаетесьвдруг все своего дорога, то принесла там от боли и пришла к  своейпринцессой. Она собрала с собой в спрятую старую королевну, и они  подумали,  что  онаподумала: \"Пожалуйста\n",
      "\n",
      "Temp=0.2: Жил-был король с королевой, и у них не подозревал,  принцесса  вспомнила  их  впала  всесобще и принесла она в своей каморке. Она сказала:\n",
      "- Не надо, - сказал солдат. - Но ведь он должен  вер-нуться к своей жене, - сказал он. - Но ты скоро умер.\n",
      "После обеда мать и как следует свою работу. Она сказала:\n",
      "- Я не вернулась в одной королевской старой девушкой. Она сказала:\n",
      "- Я не знаю, что в том свете не пришлось у меня самыми словами, но он не смел и не сказал  ей,не развязал он на дерево, и солдат подумал: \"Пожалуй, сам на свете  не \n",
      "\n",
      "Temp=0.4: Жил-был король с королевой, и у них не бойся, подарилось  владении  с  кроватью  излучшецся в другой день, и он стал про свое сердце. Они не слышали  нетнас ним в частом не слышать. Когда все же в самом деле вспомнил о них он приказал своими  собакамибелая и поклонилась и принялась ее было самым глаз. Она была  из-за как бы в окошко, на коней она поставила младшую дочь царя. Она  сталатакой в избушке старой карете, и потому что она не знала, что не  на-чали женщину на нее.\n",
      "- Ну, - отвечает Марьюшка, - ведь я тебе  скажу  тебе  по\n",
      "\n",
      "Temp=0.6: Жил-был король с королевой, и у них не бойся, если  рассказать  вам,хлеба, нет, когда я должна быть просить меня, то  и  семечко,что так и не скажешь скатерть, но поставил себе  своего  доброгоконя. И вот уже в дом.\n",
      "- А коли ты должны найти ему горю, - сказала королева.\n",
      "- Я должна быть оббарую вас, но она не улетела долго. Когда  они  взмахали  они,  поднял  самымстилисвой его пролестные сокола. Я принц востился  от  страшных  балаган,  запряженной  кровати  и  указал  ее  на  самыхдверцу, он выпрыгнул король и очень страшно всмо\n",
      "\n",
      "Temp=0.8: Жил-был король с королевой, и у них не воронов и почувствовал все  трое  гаро-ликыми и этоми поискать. Вдруг попрыгнула понимательной, тотчас живут в  глу-бокое мешение. Глядит, как как раз тух он подмели не  ловить,  он  прожил  крепко-в из крылья и появился  на  дикомкой  подру-гими и указать в поззные через чеще молодой король. В которых все были во-не не мог, и о-каколковод умил-ного по завать свои делать. А генерал он стал ума-слов.\n",
      "- По Дуймой! - рто там снова говорила, живый и пришел на принцессе.  Слышит  ей,  онувидишь к\n",
      "\n",
      "Temp=1.0: Жил-был король с королевой, и у них исчезновению совсем реки. После  узабочкахна перетонка согласилась.\n",
      "После ее замысыли опять сами и все столцны на пороге они уехали.  Он  пролетел  огромном  своемлиней, а собака красивая да лмянигворькой. А набрыть ведь это целыйзалок стояло накрыты.\n",
      "В тот же семь мертвый день был придворный куколки, так  страх  и  загрива-ся дорогу твоим рукам и не посвете подойшет только показало, что она не могупопасется, ни столько востите да как  не-подходи, зажарил своего сына. Но чем былочестно дажена н\n",
      "\n"
     ]
    }
   ],
   "source": [
    "for temp_i in [0.1, 0.2, 0.4, 0.6, 0.8, 1.0]:\n",
    "    pred_text = eval(model, \"Жил-был король с королевой, и у них\", 500, temp_i)\n",
    "    print(f\"Temp={temp_i}: {pred_text}\")\n",
    "    print()"
   ]
  },
  {
   "cell_type": "code",
   "execution_count": 14,
   "id": "f323c6c6",
   "metadata": {},
   "outputs": [
    {
     "data": {
      "image/png": "[encoded data removed]",
      "text/plain": [
       "<Figure size 432x288 with 1 Axes>"
      ]
     },
     "metadata": {
      "needs_background": "light"
     },
     "output_type": "display_data"
    }
   ],
   "source": [
    "plt.plot(losses, label=\"RNN\")\n",
    "plt.plot(losses_2, label=\"LSTM\")\n",
    "plt.title(\"Train CrossEntropyLoss\")\n",
    "plt.xlabel(\"epochs\")\n",
    "plt.ylabel(\"loss\")\n",
    "plt.legend()\n",
    "plt.show()"
   ]
  },
  {
   "cell_type": "markdown",
   "id": "bc66b1e8",
   "metadata": {},
   "source": [
    "### 2.8 Выводы\n",
    "\n",
    "Задача задания №2 - обучить модель AI генерировать текст в стиле сказок.\n",
    "\n",
    "Были обучены две модели, использующие в своих архитектурах рекуррентные нейронные сети. Первая модель использует RNN, вторая - LSTM.\n",
    "\n",
    "Из-за того, что относительная невосприимчивость к длительности временных разрывов даёт LSTM преимущество по отношению к альтернативным рекуррентным нейронным сетям, можно предположить, что LSTM должно дать более качественный результат, чем модель на базе обычных RNN-слоев.\n",
    "\n",
    "По графику после обучения моделей, видно, что LSTM значительно превосходит RNN в задаче генерации текста (loss падает куда интенсивнее).\n",
    "\n",
    "Текст, который сгенерировала LSTM-модель, оказался куда более \"натуральным\", в сравнении с RNN-моделью."
   ]
  },
  {
   "cell_type": "code",
   "execution_count": null,
   "id": "6d2326fa",
   "metadata": {},
   "outputs": [],
   "source": []
  }
 ],
 "metadata": {
  "kernelspec": {
   "display_name": "Python 3 (ipykernel)",
   "language": "python",
   "name": "python3"
  },
  "language_info": {
   "codemirror_mode": {
    "name": "ipython",
    "version": 3
   },
   "file_extension": ".py",
   "mimetype": "text/x-python",
   "name": "python",
   "nbconvert_exporter": "python",
   "pygments_lexer": "ipython3",
   "version": "3.9.7"
  }
 },
 "nbformat": 4,
 "nbformat_minor": 5
}
